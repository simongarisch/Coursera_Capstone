{
 "cells": [
  {
   "cell_type": "markdown",
   "metadata": {
    "slideshow": {
     "slide_type": "slide"
    }
   },
   "source": [
    "## Possible locations for a new bakery.\n",
    "Suppose you have a client that is looking to open a new bakery in Toronto, Canada.\n",
    "We've collected foursquare venue data then split it into bakeries and related shops.\n",
    "\n",
    "![counts](https://github.com/simongarisch/Coursera_Capstone/blob/master/week%205/venue_counts.png?raw=true)"
   ]
  },
  {
   "cell_type": "markdown",
   "metadata": {
    "slideshow": {
     "slide_type": "slide"
    }
   },
   "source": [
    "## Clustering related venues to look at foot traffic (bakeries overlaid in red)\n",
    "![counts](https://github.com/simongarisch/Coursera_Capstone/blob/master/week%205/related%20venue%20clusters.png?raw=true)"
   ]
  },
  {
   "cell_type": "markdown",
   "metadata": {
    "slideshow": {
     "slide_type": "slide"
    }
   },
   "source": [
    "## Looking at the ratio of bakeries to related shopping venues\n",
    "![counts](https://github.com/simongarisch/Coursera_Capstone/blob/master/week%205/num_bakeries.png?raw=true)"
   ]
  },
  {
   "cell_type": "markdown",
   "metadata": {
    "slideshow": {
     "slide_type": "slide"
    }
   },
   "source": [
    "## Conclusion\n",
    "It looks like there are a lower number of bakeries relative to other shopping venues in the North of Toronto (Eglinton area). For a client looking to open a bakery this would be a good area for further investigation as there should be customers available and lower competition."
   ]
  }
 ],
 "metadata": {
  "celltoolbar": "Slideshow",
  "kernelspec": {
   "display_name": "py36",
   "language": "python",
   "name": "py36"
  },
  "language_info": {
   "codemirror_mode": {
    "name": "ipython",
    "version": 3
   },
   "file_extension": ".py",
   "mimetype": "text/x-python",
   "name": "python",
   "nbconvert_exporter": "python",
   "pygments_lexer": "ipython3",
   "version": "3.6.6"
  }
 },
 "nbformat": 4,
 "nbformat_minor": 2
}
